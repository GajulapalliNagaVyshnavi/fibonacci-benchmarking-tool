{
  "nbformat": 4,
  "nbformat_minor": 0,
  "metadata": {
    "colab": {
      "provenance": []
    },
    "kernelspec": {
      "name": "python3",
      "display_name": "Python 3"
    },
    "language_info": {
      "name": "python"
    }
  },
  "cells": [
    {
      "cell_type": "code",
      "source": [
        "import os\n",
        "import csv\n",
        "import pandas as pd\n",
        "from google.colab import files\n",
        "\n",
        "def use_existing_data():\n",
        "    print(\"You chose to use existing data.\")\n",
        "    data_directory = \"/content/drive/MyDrive/Colab\"\n",
        "    files = os.listdir(data_directory)\n",
        "\n",
        "    print(\"Available files:\")\n",
        "    for i, file in enumerate(files):\n",
        "        print(f\"{i + 1}. {file}\")\n",
        "\n",
        "    choice = input(\"Enter the number of the file you want to use: \")\n",
        "\n",
        "    try:\n",
        "        choice = int(choice)\n",
        "        if 1 <= choice <= len(files):\n",
        "            selected_file = files[choice - 1]\n",
        "            print(f\"You selected: {selected_file}\")\n",
        "            data = pd.read_csv(os.path.join(data_directory, selected_file),sep=',')\n",
        "            return data\n",
        "        else:\n",
        "            print(\"Invalid choice. Please enter a number within the range.\")\n",
        "    except ValueError:\n",
        "        print(\"Invalid input. Please enter a number.\")\n",
        "\n",
        "def use_own_data():\n",
        "    print(\"You chose to use your own data.\")\n",
        "\n",
        "    uploaded = files.upload()\n",
        "\n",
        "    for filename in uploaded.keys():\n",
        "        print(f'User uploaded file \"{filename}\" with length {len(uploaded[filename])} bytes')\n",
        "        try:\n",
        "            data = pd.read_csv(filename, sep=',')\n",
        "            return data\n",
        "        except Exception as e:\n",
        "            print(\"Error processing the uploaded file:\", e)\n",
        "\n",
        "print(\"Welcome to the data selection menu!\")\n",
        "print(\"1. Use your own data\")\n",
        "print(\"2. Use existing data\")\n",
        "\n",
        "choice = input(\"Enter your choice (1 or 2): \")\n",
        "\n",
        "if choice == '1':\n",
        "    data = use_own_data()\n",
        "    print(\"Data as DataFrame:\")\n",
        "    print(data)\n",
        "elif choice == '2':\n",
        "    data = use_existing_data()\n",
        "    print(\"Data as DataFrame:\")\n",
        "    print(data)\n",
        "else:\n",
        "    print(\"Invalid choice. Please enter 1 or 2.\")"
      ],
      "metadata": {
        "colab": {
          "base_uri": "https://localhost:8080/"
        },
        "id": "5v0XSlGoEPTm",
        "outputId": "801266ea-9b84-4e08-e408-270f6d6c4f15"
      },
      "execution_count": 9,
      "outputs": [
        {
          "output_type": "stream",
          "name": "stdout",
          "text": [
            "Welcome to the data selection menu!\n",
            "1. Use your own data\n",
            "2. Use existing data\n",
            "Enter your choice (1 or 2): 2\n",
            "You chose to use existing data.\n",
            "Available files:\n",
            "1. None.csv\n",
            "2. read_counts.csv\n",
            "3. GSM2406675_10X001_cell_identities.csv\n",
            "4. GSE224008_exp.csv\n",
            "5. GSE103322.csv\n",
            "6. GSE99611.csv\n",
            "7. GSE254030.csv\n",
            "8. Bulk_RNA.csv\n",
            "9. micro.csv\n",
            "10. LET_7A_2_3P.v2023.2.Hs.gmt\n",
            "11. GOBP_MRNA_TRANSCRIPTION.v2023.2.Hs.gmt\n",
            "Enter the number of the file you want to use: 8\n",
            "You selected: Bulk_RNA.csv\n",
            "Data as DataFrame:\n",
            "    gene_name  GSM2648567  GSM2648568  GSM2648569  GSM2648570  GSM2648571  \\\n",
            "0      KCNAB2   11.773600   11.658110   11.782950   11.761680    11.49308   \n",
            "1         PGD   12.091380   12.193080   12.094560   12.183170    12.22029   \n",
            "2       RNU5E   10.445670   10.494380   10.481250   10.479750    10.29784   \n",
            "3       PLOD1   10.688640   10.573110   10.686220   10.641750    10.52194   \n",
            "4        MFN2   10.336410   10.173360   10.317230   10.303950    10.28382   \n",
            "..        ...         ...         ...         ...         ...         ...   \n",
            "669      GLG1   10.363290   10.053050   10.373420   10.260220    10.16989   \n",
            "670     RFWD3   10.347760    9.998889   10.244860   10.156110    10.22682   \n",
            "671      KARS    9.977251   10.118920    9.895569    9.943555    10.02693   \n",
            "672      CYBA    9.950182   10.158950   10.132100   10.086930    10.15204   \n",
            "673    FAM38A   10.306580   10.315590   10.401720   10.321440    10.40429   \n",
            "\n",
            "     GSM2648572  GSM2648573  GSM2648574  GSM2648575  ...  GSM2648581  \\\n",
            "0     11.666820   11.752740   11.735260   11.915170  ...    11.87151   \n",
            "1     12.204400   12.084120   12.141140   12.293590  ...    12.34302   \n",
            "2     10.591620   10.676920   10.648750   10.451950  ...    10.77708   \n",
            "3     10.552550   10.757680   10.692550   10.205400  ...    10.09721   \n",
            "4     10.228020   10.276650   10.332990   10.388210  ...    10.27498   \n",
            "..          ...         ...         ...         ...  ...         ...   \n",
            "669   10.215330   10.343750   10.227840   10.324040  ...    10.24935   \n",
            "670   10.012560   10.218560    9.996483   10.181310  ...    10.09578   \n",
            "671    9.991178    9.823675    9.946445   10.052640  ...    10.02227   \n",
            "672   10.108930   10.109980   10.107220    9.854263  ...    10.07427   \n",
            "673   10.461790   10.423590   10.422500   10.221850  ...    10.09457   \n",
            "\n",
            "     GSM2648582  GSM2648583  GSM2648584  GSM2648585  GSM2648586  GSM2648587  \\\n",
            "0      11.88268   11.918270   11.109640    11.88023    11.80213   11.685340   \n",
            "1      12.34407   12.197850   12.305170    12.30362    12.13529   12.290140   \n",
            "2      10.90655   10.172680   10.027240    10.56677    10.22750    9.934440   \n",
            "3      10.24924   10.362890    9.730327    10.32237    10.28830   10.172080   \n",
            "4      10.29732   10.366290   10.077220    10.31382    10.31037   10.369010   \n",
            "..          ...         ...         ...         ...         ...         ...   \n",
            "669    10.26072   10.345380    9.923750    10.27723    10.21827   10.179270   \n",
            "670    10.13873   10.144760    9.763984    10.19864    10.01859   10.155020   \n",
            "671    10.11840   10.073820   10.525510    10.00411    10.04863   10.162990   \n",
            "672     9.96267    9.841408    9.806663     9.93082    10.06695    9.769758   \n",
            "673    10.18016   10.252990   10.203010    10.26822    10.42128   10.251870   \n",
            "\n",
            "     GSM2648588  GSM2648589  GSM2648590  \n",
            "0     11.847060   11.851680   11.843160  \n",
            "1     12.257900   12.289110   12.352990  \n",
            "2     10.133200    9.824701   10.607670  \n",
            "3     10.357840   10.363240   10.285970  \n",
            "4     10.351930   10.303500   10.265580  \n",
            "..          ...         ...         ...  \n",
            "669   10.212990   10.243940   10.233380  \n",
            "670   10.198950   10.338950   10.117770  \n",
            "671   10.081980   10.019430   10.084100  \n",
            "672    9.967533    9.836203    9.801945  \n",
            "673   10.273590   10.156950   10.078500  \n",
            "\n",
            "[674 rows x 25 columns]\n"
          ]
        }
      ]
    },
    {
      "cell_type": "code",
      "execution_count": 16,
      "metadata": {
        "colab": {
          "base_uri": "https://localhost:8080/"
        },
        "id": "t3eLoDVTXjxt",
        "outputId": "2bc94ac3-9d5f-45aa-eba5-65b65fc438c2"
      },
      "outputs": [
        {
          "output_type": "stream",
          "name": "stdout",
          "text": [
            "     GSM2648567  GSM2648568  GSM2648569  GSM2648570  GSM2648571  GSM2648572  \\\n",
            "0     11.783427   11.655171   11.796558   11.760004   11.470377   11.674179   \n",
            "1     12.101473   12.190006   12.108528   12.181434   12.196150   12.212098   \n",
            "2     10.454389   10.491734   10.493355   10.478257   10.277498   10.598301   \n",
            "3     10.697562   10.570444   10.698561   10.640234   10.501155   10.559206   \n",
            "4     10.345038   10.170795   10.329145   10.302482   10.263505   10.234472   \n",
            "..          ...         ...         ...         ...         ...         ...   \n",
            "669   10.371940   10.050515   10.385400   10.258758   10.149801   10.221774   \n",
            "670   10.356397    9.996368   10.256692   10.154663   10.206618   10.018876   \n",
            "671    9.985579   10.116369    9.906997    9.942138   10.007123    9.997480   \n",
            "672    9.958487   10.156389   10.143801   10.085493   10.131986   10.115306   \n",
            "673   10.315183   10.312989   10.413733   10.319969   10.383738   10.468389   \n",
            "\n",
            "     GSM2648573  GSM2648574  GSM2648575  GSM2648576  ...  GSM2648581  \\\n",
            "0     11.752005   11.759400   11.930442   10.883546  ...   11.829782   \n",
            "1     12.083364   12.166115   12.309347   12.426421  ...   12.299635   \n",
            "2     10.676252   10.670655   10.465347   10.354520  ...   10.739199   \n",
            "3     10.757007   10.714545   10.218481    9.649381  ...   10.061719   \n",
            "4     10.276007   10.354246   10.401525   10.144128  ...   10.238864   \n",
            "..          ...         ...         ...         ...  ...         ...   \n",
            "669   10.343103   10.248879   10.337273    9.917494  ...   10.213324   \n",
            "670   10.217921   10.017046   10.194360    9.665702  ...   10.060294   \n",
            "671    9.823061    9.966905   10.065525   10.853017  ...    9.987042   \n",
            "672   10.109348   10.128011    9.866894    9.914862  ...   10.038859   \n",
            "673   10.422938   10.443940   10.234952   10.228768  ...   10.059088   \n",
            "\n",
            "     GSM2648582  GSM2648583  GSM2648584  GSM2648585  GSM2648586  GSM2648587  \\\n",
            "0     11.837352   11.950813   11.162543   11.876314   11.843441   11.671763   \n",
            "1     12.296982   12.231156   12.363767   12.299565   12.177767   12.275860   \n",
            "2     10.864945   10.200457   10.074989   10.563287   10.263299    9.922897   \n",
            "3     10.210143   10.391186    9.776662   10.318968   10.324312   10.160261   \n",
            "4     10.258039   10.394595   10.125207   10.310420   10.346459   10.356962   \n",
            "..          ...         ...         ...         ...         ...         ...   \n",
            "669   10.221579   10.373628    9.971006   10.273842   10.254037   10.167443   \n",
            "670   10.100054   10.172460    9.810480   10.195278   10.053658   10.143221   \n",
            "671   10.079802   10.101327   10.575632   10.000813   10.083803   10.151182   \n",
            "672    9.924666    9.868280    9.853362    9.927547   10.102187    9.758406   \n",
            "673   10.141326   10.280986   10.251596   10.264835   10.457758   10.239958   \n",
            "\n",
            "     GSM2648588  GSM2648589  GSM2648590  \n",
            "0     11.860694   11.841234   11.836881  \n",
            "1     12.272007   12.278278   12.346441  \n",
            "2     10.144861    9.816042   10.602046  \n",
            "3     10.369760   10.354106   10.280517  \n",
            "4     10.363843   10.294419   10.260138  \n",
            "..          ...         ...         ...  \n",
            "669   10.224743   10.234911   10.227955  \n",
            "670   10.210687   10.329837   10.112406  \n",
            "671   10.093583   10.010599   10.078754  \n",
            "672    9.979004    9.827533    9.796749  \n",
            "673   10.285413   10.147998   10.073157  \n",
            "\n",
            "[674 rows x 24 columns]\n"
          ]
        }
      ],
      "source": [
        "import pandas as pd\n",
        "import numpy as np\n",
        "\n",
        "def normalize_data(data):\n",
        "  data_numeric = data.select_dtypes(include=[np.number])\n",
        "  library_sizes = data_numeric.sum(axis=0)\n",
        "  effective_library_size = np.exp(np.mean(np.log(library_sizes)))\n",
        "  normalization_factors = library_sizes / effective_library_size\n",
        "  normalized_data = data_numeric.div(normalization_factors, axis=1)\n",
        "  return normalized_data\n",
        "\n",
        "data_normalized = normalize_data(data)\n",
        "print(data_normalized)\n"
      ]
    },
    {
      "cell_type": "code",
      "source": [
        "from scipy import stats\n",
        "import numpy as np\n",
        "\n",
        "\n",
        "num_columns = len(data_normalized.columns)\n",
        "group_A_columns = data_normalized.columns[:num_columns // 2]\n",
        "group_B_columns = data_normalized.columns[num_columns // 2:]\n",
        "\n",
        "t_test_results = {}\n",
        "for gene in data_normalized.index:\n",
        "    t_statistic, p_value = stats.ttest_ind(data_normalized.loc[gene, group_A_columns],\n",
        "                                            data_normalized.loc[gene, group_B_columns])\n",
        "    t_test_results[gene] = {'t_statistic': t_statistic, 'p_value': p_value}\n",
        "\n",
        "significant_genes = {}\n",
        "for gene, result in t_test_results.items():\n",
        "    p_value = result['p_value']\n",
        "    if isinstance(p_value, np.ndarray):\n",
        "        p_value = p_value[0]\n",
        "    if p_value < 0.05:\n",
        "        significant_genes[gene] = result\n",
        "\n",
        "significant_gene_names = []\n",
        "\n",
        "for gene, result in t_test_results.items():\n",
        "    p_value = result['p_value']\n",
        "    if isinstance(p_value, np.ndarray):\n",
        "        p_value = p_value[0]\n",
        "    if p_value < 0.05:\n",
        "        significant_gene_names.append(gene)\n",
        "print(\"Significant gene names:\")\n",
        "print(significant_gene_names)\n",
        "print(len(significant_gene_names))\n"
      ],
      "metadata": {
        "colab": {
          "base_uri": "https://localhost:8080/"
        },
        "id": "SWXnEI50JHRY",
        "outputId": "ccb64bc0-f6eb-4a7c-cee6-ad7a76bdc1b7"
      },
      "execution_count": 17,
      "outputs": [
        {
          "output_type": "stream",
          "name": "stdout",
          "text": [
            "Significant gene names:\n",
            "[1, 3, 13, 14, 17, 30, 31, 37, 41, 52, 53, 54, 55, 59, 60, 62, 63, 65, 66, 70, 84, 86, 88, 89, 90, 93, 95, 97, 104, 108, 111, 115, 117, 122, 126, 131, 132, 133, 134, 136, 142, 143, 150, 154, 156, 158, 160, 166, 177, 182, 185, 187, 188, 189, 190, 192, 209, 215, 216, 217, 218, 221, 228, 230, 231, 235, 241, 243, 252, 254, 256, 258, 259, 260, 269, 272, 276, 279, 280, 290, 295, 296, 298, 299, 301, 310, 312, 314, 315, 319, 320, 321, 322, 325, 326, 330, 332, 341, 344, 345, 351, 352, 353, 354, 356, 359, 369, 374, 379, 381, 384, 389, 390, 397, 400, 403, 408, 415, 416, 419, 421, 424, 427, 437, 438, 446, 448, 453, 457, 462, 468, 470, 487, 490, 492, 496, 500, 503, 507, 517, 518, 521, 531, 532, 533, 540, 544, 563, 569, 570, 579, 584, 587, 591, 592, 595, 597, 598, 601, 602, 603, 608, 616, 620, 623, 639, 644, 652, 672, 673]\n",
            "170\n"
          ]
        }
      ]
    },
    {
      "cell_type": "code",
      "source": [
        "genes_per_set = 3\n",
        "\n",
        "gene_sets = {}\n",
        "current_set_index = 1\n",
        "for i in range(0, len(significant_gene_names), genes_per_set):\n",
        "    gene_set_name = f'Gene_Set_{current_set_index}'\n",
        "    gene_sets[gene_set_name] = significant_gene_names[i:i+genes_per_set]\n",
        "    current_set_index += 1\n",
        "\n",
        "top_gene_sets = dict(list(gene_sets.items())[:10])\n",
        "\n",
        "print(\"Top 10 Gene Sets:\")\n",
        "for gene_set_name, genes in top_gene_sets.items():\n",
        "    print(f\"{gene_set_name}: {genes}\")\n",
        "\n"
      ],
      "metadata": {
        "colab": {
          "base_uri": "https://localhost:8080/"
        },
        "id": "AvdBijK7PtTm",
        "outputId": "d612e5ec-11ca-4c7c-bcbd-8a39dd6ad500"
      },
      "execution_count": 18,
      "outputs": [
        {
          "output_type": "stream",
          "name": "stdout",
          "text": [
            "Top 10 Gene Sets:\n",
            "Gene_Set_1: [1, 3, 13]\n",
            "Gene_Set_2: [14, 17, 30]\n",
            "Gene_Set_3: [31, 37, 41]\n",
            "Gene_Set_4: [52, 53, 54]\n",
            "Gene_Set_5: [55, 59, 60]\n",
            "Gene_Set_6: [62, 63, 65]\n",
            "Gene_Set_7: [66, 70, 84]\n",
            "Gene_Set_8: [86, 88, 89]\n",
            "Gene_Set_9: [90, 93, 95]\n",
            "Gene_Set_10: [97, 104, 108]\n"
          ]
        }
      ]
    },
    {
      "cell_type": "code",
      "source": [
        "gene_ranks = {gene: result['t_statistic'] for gene, result in t_test_results.items()}\n",
        "\n",
        "gsea_results = {}\n",
        "for gene_set_name, gene_set in gene_sets.items():\n",
        "    enrichment_scores = [gene_ranks[gene] if gene in gene_ranks else 0 for gene in gene_set]\n",
        "    enrichment_score = sum(enrichment_scores)\n",
        "    gsea_results[gene_set_name] = enrichment_score\n",
        "\n",
        "sorted_gsea_results = sorted(gsea_results.items(), key=lambda x: np.any(x[1]), reverse=True)\n",
        "\n",
        "print(\"Top 10 Gene Set Enrichment Analysis Results:\")\n",
        "for gene_set_name, enrichment_score in sorted_gsea_results[:10]:\n",
        "    print(f\"{gene_set_name}: {enrichment_score}\")"
      ],
      "metadata": {
        "colab": {
          "base_uri": "https://localhost:8080/"
        },
        "id": "CaibcZqGQeTr",
        "outputId": "9304d40d-6741-4b84-e0aa-1262efce880b"
      },
      "execution_count": 19,
      "outputs": [
        {
          "output_type": "stream",
          "name": "stdout",
          "text": [
            "Top 10 Gene Set Enrichment Analysis Results:\n",
            "Gene_Set_1: -4.24369027035398\n",
            "Gene_Set_2: -7.804650988568008\n",
            "Gene_Set_3: -1.3268170660782759\n",
            "Gene_Set_4: 5.875668368478719\n",
            "Gene_Set_5: -9.434482698123094\n",
            "Gene_Set_6: -3.213831448554857\n",
            "Gene_Set_7: -8.547198403865819\n",
            "Gene_Set_8: 8.517027836775535\n",
            "Gene_Set_9: 2.3271472722374393\n",
            "Gene_Set_10: -1.8929671246588469\n"
          ]
        }
      ]
    },
    {
      "cell_type": "code",
      "source": [
        "from google.colab import drive\n",
        "drive.mount('/content/drive')"
      ],
      "metadata": {
        "colab": {
          "base_uri": "https://localhost:8080/"
        },
        "id": "DC3ufCV04feI",
        "outputId": "7adf95bf-a233-441d-885c-324256fd2539"
      },
      "execution_count": 2,
      "outputs": [
        {
          "output_type": "stream",
          "name": "stdout",
          "text": [
            "Mounted at /content/drive\n"
          ]
        }
      ]
    }
  ]
}